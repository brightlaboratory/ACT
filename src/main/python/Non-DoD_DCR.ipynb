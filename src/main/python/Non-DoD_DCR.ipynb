{
 "cells": [
  {
   "cell_type": "markdown",
   "metadata": {},
   "source": [
    "# Analysis of Non-DoD_DCR file"
   ]
  },
  {
   "cell_type": "code",
   "execution_count": 1,
   "metadata": {},
   "outputs": [],
   "source": [
    "import pandas as pd\n",
    "import numpy as np"
   ]
  },
  {
   "cell_type": "code",
   "execution_count": 2,
   "metadata": {
    "scrolled": false
   },
   "outputs": [
    {
     "data": {
      "text/plain": [
       "['Patient',\n",
       " 'INR (hospital)',\n",
       " 'PT (ISR) (s)',\n",
       " 'Died of wounds (yes 1, no 0)',\n",
       " 'Fg (mg/dl)',\n",
       " 'PTT (ISR) (s)',\n",
       " 'PTT (hospital) (s)',\n",
       " 'D-Dimer (ug/ml)',\n",
       " 'pH (ISR)',\n",
       " 'pH (hospital)',\n",
       " 'HCO3 (ISR) (mM)',\n",
       " 'HCO3 (hospital) (mM)',\n",
       " 'Lactate (ISR) (mM)',\n",
       " 'Lactate (hospital) (mM)',\n",
       " 'CAT Lagtime (min)',\n",
       " 'CAT ETP (nM*min)',\n",
       " 'CAT Peak (nM)',\n",
       " 'CAT ttPeak (min)',\n",
       " 'CT (s)',\n",
       " 'MCF (mm)',\n",
       " 'alpha (degrees)',\n",
       " 'LI30 (%)',\n",
       " 'LI45 (%)',\n",
       " 'LI60 (%)',\n",
       " 'Total protein (ug/ml)',\n",
       " 'Fibrin degradation products (ng/ml)',\n",
       " 'Crystalloid (mL given pre-hospital)',\n",
       " 'Prelab time (estimated) (min)',\n",
       " 'Sodium',\n",
       " 'Potassium',\n",
       " 'BUN',\n",
       " 'Creatine',\n",
       " 'Mg',\n",
       " 'Ica']"
      ]
     },
     "execution_count": 2,
     "metadata": {},
     "output_type": "execute_result"
    }
   ],
   "source": [
    "# Summarizing the data\n",
    "df = pd.read_csv(\"data/DCR.csv\")\n",
    "df.columns.tolist()"
   ]
  },
  {
   "cell_type": "code",
   "execution_count": 3,
   "metadata": {},
   "outputs": [
    {
     "data": {
      "text/plain": [
       "True"
      ]
     },
     "execution_count": 3,
     "metadata": {},
     "output_type": "execute_result"
    }
   ],
   "source": [
    "#Getting all the feature names and looking for missing values\n",
    "all_cols = df.columns.tolist()\n",
    "df.isnull().values.any()"
   ]
  },
  {
   "cell_type": "code",
   "execution_count": 18,
   "metadata": {},
   "outputs": [
    {
     "data": {
      "text/plain": [
       "(67, 28)"
      ]
     },
     "execution_count": 18,
     "metadata": {},
     "output_type": "execute_result"
    }
   ],
   "source": [
    "# Creating subset of 28 features (removing all the hospital fields and Ica. Getting basic column stats.\n",
    "cols_isr = ['Patient','PT (ISR) (s)', 'Fg (mg/dl)','PTT (ISR) (s)','D-Dimer (ug/ml)',\n",
    "            'pH (ISR)','HCO3 (ISR) (mM)', 'Lactate (ISR) (mM)','CAT Lagtime (min)',\n",
    "            'CAT ETP (nM*min)','CAT Peak (nM)','CAT ttPeak (min)','CT (s)', 'MCF (mm)',\n",
    "            'alpha (degrees)','LI30 (%)','LI45 (%)','LI60 (%)','Total protein (ug/ml)',\n",
    "            'Fibrin degradation products (ng/ml)','Crystalloid (mL given pre-hospital)',\n",
    "            'Prelab time (estimated) (min)', 'Sodium','Potassium','BUN','Creatine','Mg',\n",
    "            'Died of wounds (yes 1, no 0)']\n",
    "df[cols_isr].shape"
   ]
  },
  {
   "cell_type": "markdown",
   "metadata": {},
   "source": [
    "## Analysis on ISR data and imputing with -1"
   ]
  },
  {
   "cell_type": "code",
   "execution_count": 5,
   "metadata": {},
   "outputs": [
    {
     "data": {
      "text/plain": [
       "False"
      ]
     },
     "execution_count": 5,
     "metadata": {},
     "output_type": "execute_result"
    }
   ],
   "source": [
    "#Filling the missing fields with -1 value and confirming no missing data\n",
    "df_isr = df[cols_isr].fillna(-1)\n",
    "df_isr.isnull().values.any()"
   ]
  },
  {
   "cell_type": "code",
   "execution_count": 19,
   "metadata": {},
   "outputs": [
    {
     "data": {
      "text/plain": [
       "(67, 28)"
      ]
     },
     "execution_count": 19,
     "metadata": {},
     "output_type": "execute_result"
    }
   ],
   "source": [
    "# Have 67 records for subset of 28 features for prediction\n",
    "df_isr.shape"
   ]
  },
  {
   "cell_type": "code",
   "execution_count": 7,
   "metadata": {},
   "outputs": [
    {
     "name": "stdout",
     "output_type": "stream",
     "text": [
      "0    60\n",
      "1     7\n",
      "Name: Died of wounds (yes 1, no 0), dtype: int64\n"
     ]
    }
   ],
   "source": [
    "# Records of alive vs dead\n",
    "print df_isr['Died of wounds (yes 1, no 0)'].value_counts()"
   ]
  },
  {
   "cell_type": "code",
   "execution_count": 8,
   "metadata": {},
   "outputs": [
    {
     "name": "stdout",
     "output_type": "stream",
     "text": [
      "(67, 27) (67,)\n"
     ]
    }
   ],
   "source": [
    "#Preparing X and y\n",
    "X = df_isr[cols_isr[:-1]]\n",
    "y = df_isr['Died of wounds (yes 1, no 0)']\n",
    "print X.shape, y.shape"
   ]
  },
  {
   "cell_type": "code",
   "execution_count": 9,
   "metadata": {},
   "outputs": [],
   "source": [
    "from sklearn.ensemble import RandomForestClassifier as rfc\n",
    "from sklearn.model_selection import cross_val_score, cross_val_predict\n",
    "from sklearn.metrics import confusion_matrix, precision_recall_fscore_support"
   ]
  },
  {
   "cell_type": "code",
   "execution_count": 10,
   "metadata": {},
   "outputs": [],
   "source": [
    "# RandomForestClassifier\n",
    "def RFC(X, y):\n",
    "    n_est = 10\n",
    "    max_f = \"sqrt\" #float, int or log2\n",
    "    max_d = 8\n",
    "    random_state = 42\n",
    "    model = rfc(n_estimators = n_est, max_features=max_f, max_depth= max_d, oob_score= True, random_state=random_state)\n",
    "    scores = cross_val_score(model, X, y)\n",
    "    y_pred = cross_val_predict(model, X, y)\n",
    "    print \"Cross validation accuracy: \", scores\n",
    "    print \"Overall accuracy: \", scores.mean()\n",
    "    model_perf(y, y_pred)\n",
    "    return model"
   ]
  },
  {
   "cell_type": "code",
   "execution_count": 11,
   "metadata": {},
   "outputs": [],
   "source": [
    "def model_perf(y, y_pred):\n",
    "    print \"Confusion matrix: \\n\", confusion_matrix(y, y_pred)\n",
    "    #print \"Precision, Recall, fscore: \", precision_recall_fscore_support(y, y_pred)\n",
    "    precision, recall, a3, a4 = precision_recall_fscore_support(y, y_pred)\n",
    "    for i in range(2):\n",
    "        if i == 0:\n",
    "            print \"precision, recall value (alive): \", precision[0], recall[0]\n",
    "        else:\n",
    "            print \"precision, recall value (dead): \", precision[1], recall[1]"
   ]
  },
  {
   "cell_type": "code",
   "execution_count": 12,
   "metadata": {},
   "outputs": [
    {
     "name": "stdout",
     "output_type": "stream",
     "text": [
      "Cross validation accuracy:  [0.86956522 0.86363636 0.95454545]\n",
      "Overall accuracy:  0.8959156785243741\n",
      "Confusion matrix: \n",
      "[[58  2]\n",
      " [ 5  2]]\n",
      "precision, recall value (alive):  0.9206349206349206 0.9666666666666667\n",
      "precision, recall value (dead):  0.5 0.2857142857142857\n"
     ]
    }
   ],
   "source": [
    "# Overall accuracy using cross_validation 2/3 data used for training 1/3 used for testing accuracy, run thrice.\n",
    "model = RFC(X,y)\n"
   ]
  },
  {
   "cell_type": "code",
   "execution_count": 21,
   "metadata": {},
   "outputs": [
    {
     "name": "stdout",
     "output_type": "stream",
     "text": [
      "                                feature  importance\n",
      "1                          PT (ISR) (s)    0.135285\n",
      "5                              pH (ISR)    0.104257\n",
      "4                       D-Dimer (ug/ml)    0.098946\n",
      "0                               Patient    0.090922\n",
      "12                               CT (s)    0.068926\n",
      "16                             LI45 (%)    0.063393\n",
      "20  Crystalloid (mL given pre-hospital)    0.057643\n",
      "17                             LI60 (%)    0.048838\n",
      "25                             Creatine    0.040179\n",
      "23                            Potassium    0.035392\n",
      "8                     CAT Lagtime (min)    0.034445\n",
      "15                             LI30 (%)    0.032377\n",
      "2                            Fg (mg/dl)    0.031382\n",
      "9                      CAT ETP (nM*min)    0.029723\n",
      "21        Prelab time (estimated) (min)    0.024187\n",
      "6                       HCO3 (ISR) (mM)    0.023929\n",
      "11                     CAT ttPeak (min)    0.022841\n",
      "7                    Lactate (ISR) (mM)    0.013181\n",
      "14                      alpha (degrees)    0.011964\n",
      "26                                   Mg    0.010698\n",
      "10                        CAT Peak (nM)    0.008816\n",
      "24                                  BUN    0.007836\n",
      "13                             MCF (mm)    0.004841\n",
      "19  Fibrin degradation products (ng/ml)    0.000000\n",
      "18                Total protein (ug/ml)    0.000000\n",
      "22                               Sodium    0.000000\n",
      "3                         PTT (ISR) (s)    0.000000\n"
     ]
    }
   ],
   "source": [
    "# Feature Importance sorted in descending order of importance\n",
    "fi = model.fit(X,y).feature_importances_\n",
    "feat_imp = pd.DataFrame()\n",
    "feat_imp['feature'] = cols_isr[:-1]\n",
    "feat_imp['importance'] = fi\n",
    "print feat_imp.sort_values(by='importance', ascending=False)"
   ]
  },
  {
   "cell_type": "markdown",
   "metadata": {},
   "source": [
    "## Analysing after dropping the records with any missing data of ISR cols\n"
   ]
  },
  {
   "cell_type": "code",
   "execution_count": 22,
   "metadata": {},
   "outputs": [
    {
     "data": {
      "text/plain": [
       "False"
      ]
     },
     "execution_count": 22,
     "metadata": {},
     "output_type": "execute_result"
    }
   ],
   "source": [
    "df_isr_drop_null = df[cols_isr].dropna()\n",
    "df_isr_drop_null.isnull().values.any()"
   ]
  },
  {
   "cell_type": "code",
   "execution_count": 24,
   "metadata": {},
   "outputs": [
    {
     "data": {
      "text/plain": [
       "(33, 28)"
      ]
     },
     "execution_count": 24,
     "metadata": {},
     "output_type": "execute_result"
    }
   ],
   "source": [
    "df_isr_drop_null.shape"
   ]
  },
  {
   "cell_type": "code",
   "execution_count": 25,
   "metadata": {},
   "outputs": [
    {
     "name": "stdout",
     "output_type": "stream",
     "text": [
      "0    33\n",
      "Name: Died of wounds (yes 1, no 0), dtype: int64\n"
     ]
    }
   ],
   "source": [
    "# Records of alive vs dead\n",
    "print df_isr_drop_null['Died of wounds (yes 1, no 0)'].value_counts()"
   ]
  },
  {
   "cell_type": "markdown",
   "metadata": {},
   "source": [
    "Since dropping all the records with missing data removes all the rows of dead. Not proceeding with the experiment."
   ]
  },
  {
   "cell_type": "code",
   "execution_count": null,
   "metadata": {},
   "outputs": [],
   "source": []
  }
 ],
 "metadata": {
  "kernelspec": {
   "display_name": "Python 2",
   "language": "python",
   "name": "python2"
  },
  "language_info": {
   "codemirror_mode": {
    "name": "ipython",
    "version": 2
   },
   "file_extension": ".py",
   "mimetype": "text/x-python",
   "name": "python",
   "nbconvert_exporter": "python",
   "pygments_lexer": "ipython2",
   "version": "2.7.12"
  }
 },
 "nbformat": 4,
 "nbformat_minor": 2
}
